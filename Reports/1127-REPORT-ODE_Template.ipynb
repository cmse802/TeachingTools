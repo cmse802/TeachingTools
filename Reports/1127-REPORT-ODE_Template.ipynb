{
 "cells": [
  {
   "cell_type": "markdown",
   "metadata": {},
   "source": [
    "In order to successfully complete this assignment you need to commit a report in markdown or ipynb format to your ```Reports``` directory in your project git repository on or before **11:59pm on Friday November 27**."
   ]
  },
  {
   "cell_type": "markdown",
   "metadata": {},
   "source": [
    "# <center>Using Ordinary Differential Equations (ODEs) in Teaching Chemistry</center>\n",
    "\n",
    "<center>by Emily Thomas</center>"
   ]
  },
  {
   "cell_type": "markdown",
   "metadata": {},
   "source": [
    "Throughout the pattern of this course, I have realized that most of the entry points for chemistry connections to the models fall under the category of chemical kinetics. This may be because it is one of the areas of chemistry that I am most familiar with and that I enjoy teaching, but kinetics also has many different needs that are expressed many different ways in chemistry. In discussing ordinary differential equations with general chemistry students, I think it might be interesting to compare the different models that can be used to describe chemical kinetics and why each model is unique, useful, and necessary.$^1$  \n",
    "If I were introducing the models in the order that we covered them in this class, I would first remind the students about the previous models we discussed before bringing in ordinary differential equations. We first talked about statistical models. These models are used to describe the percentage likelihood of a reaction occuring. Molecules need to both collide with enough energy and in the right orientation for a reaction to occur and this can be modeled with relatively simple statistical models. Basically just a percentage change of occurring under certain conditions. This can be used to compare reactivity in different conditions or with different reactants. It could also be used to show the percentage likelihood of certain products being created, like in a racemic mixture where two or more orientations of the same molecule may be formed.  \n",
    "The next model/tool that was applied to chemical kinetics was machine learning. This was shown to the students as a way to determine the different reactivity sites on large molecules. By running models of molecules with machine learning and allowing it to train itself, machine learning is used to speed up the process of determining the reaction sites on a molecule and what potential products can come from this. It was explained that this is useful because the computer starts to learn and try new orientations without the supervision of the researchers and can find what they are looking for much quicker than trying to brute force try all the options they can think of. Machine learning in this case is used to speed up the process of determining the products of a reaction orientation or can help determine what orientation would form a desired product.  \n",
    "Now that we reviewed how these models are applied. We can talk about how these models are different from how we use ordinary differential equations in chemistry. Machine learning isn't the same kind of model here because it's something used to repeat models and learn about the models. In a way this is a model, but I think it would be interesting to distinguish it more as a manager of models. Stats models are used to determine a percentage chance of occurrence whereas ordinary differential equations are used to describe the rate of formation of products and rate of disappearance of reactants. These two models serve distinct purposes; one shows how likely it is for a reaction to happen and one describes what is actually happening over time. There are common differential equations that are used to describe chemical reactions so much so that we can classify the speed of the reaction using this information. In chemistry, we classify the reaction speed based on which order of differential equation describes the reaction.  \n",
    "When discussing this topic with students, they often get caught up in the complicated math, but this is an unnecessary barrier. It’s not necessary for non-majors who potentially will never take math beyond Calculus I, as this is the general requirement for general chemistry classes, to take an entire class on differential equations. However, it is the job of the instructor to determine what parts of the model are important and how they can be shown to the students in a non-intimidating way.$^2$ Using the animated models created in CMSE and adapting them to the general differential equations used in chemistry could be helpful in showing students rates of change over time and how that affects the concentration of products and reactants. Having a model that I could control real time in class to answer the questions of the students would be a significant asset to teaching this section of chemistry.$^3$"
   ]
  },
  {
   "cell_type": "markdown",
   "metadata": {},
   "source": [
    "---\n",
    "# References\n",
    "\n",
    "1. https://link.springer.com/article/10.1007/s40828-014-0001-x  \n",
    "2. https://chem.libretexts.org/Bookshelves/Physical_and_Theoretical_Chemistry_Textbook_Maps/Book%3A_Mathematical_Methods_in_Chemistry_(Levitus)/04%3A_First_Order_Ordinary_Differential_Equations/4.03%3A_Chemical_Kinetics  \n",
    "3. https://pubs.acs.org/doi/10.1021/acs.jchemed.8b00296"
   ]
  },
  {
   "cell_type": "markdown",
   "metadata": {},
   "source": [
    "-----\n",
    "\n",
    "### Congratulations, you are done!\n",
    "\n",
    "Now, you just need to commit and push this report to your project git repository. "
   ]
  },
  {
   "cell_type": "markdown",
   "metadata": {},
   "source": []
  }
 ],
 "metadata": {
  "anaconda-cloud": {},
  "kernelspec": {
   "display_name": "Python 3",
   "language": "python",
   "name": "python3"
  },
  "language_info": {
   "codemirror_mode": {
    "name": "ipython",
    "version": 3
   },
   "file_extension": ".py",
   "mimetype": "text/x-python",
   "name": "python",
   "nbconvert_exporter": "python",
   "pygments_lexer": "ipython3",
   "version": "3.8.3"
  }
 },
 "nbformat": 4,
 "nbformat_minor": 1
}
