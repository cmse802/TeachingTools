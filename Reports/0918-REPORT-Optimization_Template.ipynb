{
 "cells": [
  {
   "cell_type": "markdown",
   "metadata": {},
   "source": [
    "In order to successfully complete this assignment you need to commit a report in markdown or ipynb format to your ```Reports``` directory in your project git repository on or before **11:59pm on Friday September 18**."
   ]
  },
  {
   "cell_type": "markdown",
   "metadata": {},
   "source": [
    "# <center>Teaching Optimization in Chemistry</center>\n",
    "\n",
    "<center>by Emily Thomas</center>"
   ]
  },
  {
   "cell_type": "markdown",
   "metadata": {},
   "source": [
    "**Strategies for Teaching Structural Optimization at Three Levels of Chemistry Student\n",
    "Emily Thomas, CMSE 802 - FL20, Dr. Dirk Colbry**  \n",
    "**Introduction**  \n",
    "Optimization is often tied to structure in chemistry. Naturally chemical molecules want to use the least amount of energy to hold themselves together while still being a molecule with bonds. It is a pretty simple concept to discuss with students at any level; from First Year General Chemistry to Undergraduate Physical Chemistry to even Graduate Level Physical/Computational Chemistry courses. However, this must come with a warning because you cannot talk about structure with each level in the same way. If you start talking about ab initio calculation methods with General Chemistry students, they’re going to walk out of the room right then and there. Make sure to tune your discussion of how optimization works for each class you’re teaching; let’s talk about some strategies for talking about optimization with those three different categories of chemistry students.\n",
    "First let’s start with a working definition of what I mean by optimization in chemistry. Optimization is often tied to determining the most probable structure in chemistry and is often called energy or geometry minimization or optimization. Computational chemists often input a guess at a structure and use optimization strategies in chemistry to find the lowest energy point on what we call the potential energy surface. The structure that exists at this low point is the most probable for existence because it exists at the lowest energy point where it requires the least amount of energy to be held together. Molecules may become energized spontaneously or by an outside source and exist as a non-optimal structure and this is an entire field of study in its own right in chemistry.  \n",
    "**First-Year General Chemistry**  \n",
    "A First-Year General Chemistry student is one of a unique bunch. They are a mix of students who saw some chemistry in high school, took AP Chemistry, or don’t know an atom from an Adam. The class must start from the most basic level and work it’s way up. As mentioned before, optimization is often tied to determining the most probable structure in chemistry which leads to the perfect time to talk about optimization to general chemistry students. Usually towards the end of first semester chemistry, the idea of why structures exist the way they do and how they can be predicted is introduced. This is called molecular geometry and structure and we often talk about the VESPR method of determining structure with Lewis Dot Diagrams.  \n",
    "After these concepts have been introduced and the idea of structure has been solidified to them, it would be a good time to pitch the idea of optimization in a broad sense. It would be a good current event topic to draw the class into to let them know what real chemists are doing right now. Often, when I personally teach classes, I will talk in short elevator-type speeches about the research going on with my friends and in the labs at MSU and optimization is actually no stranger for me to talk about. There are research groups at MSU that work on the best possible predictions of the structures of molecules that do not last long enough or cannot be separated from other molecules easily enough to be studied. These predicted structures are then used to inform chemists in the lab what to look for and help them decide what reactions they can do to stabilize or isolate the compounds. To do this, the chemists input a guess at a structure and use some fancy math called optimization that kind of works like finding the inflection point on a parabola. They guess the structure and let their computers run algorithms to see if it can find a lower energy structure or not. This is a pretty basic introduction to how optimization works and it is important because it gets students thinking about what chemists do, especially “non-traditional” chemists like computational chemists who do not work in a lab.  \n",
    "**Undergraduate Physical Chemistry**  \n",
    "Undergraduate Physical Chemistry students would likely happen upon the concept of optimization in what is traditionally their second semester course based on Quantum Chemistry. The course works its way through the development of the concepts behind Quantum Chemistry from the wave-particle duality usually through the  few of the first approximations of the behavior of particles. This course tends to cover a lot of comprehensive mathematics related to the quantum mechanical behavior of particles in different scenarios so they are really getting introduced to the idea of computational chemistry. This would be a perfect jumping off point to discuss energy optimization.  \n",
    "\tStudents at this level of chemistry are often going to be going off to graduate school and should be introduced to the current research being done in preparations for the next level of study. It can also be a good idea to get them reading research papers early on as this will be a crucial skill later on in their career. By giving them a guided reading opportunity in a low stakes environment with a basic research article, students can gain confidence when reading as well as the skills needed to actually read the article. A worksheet could be constructed to walk them through reading the article at home to pull out the main points. This article could then be discussed in class to reinforce the main points. You could then elaborate on how optimization is currently being used in more detail than with the general chemistry students. This could include walking through a potential energy surface and talking about different structures molecules can take on as they move across the surface. I personally would not test this information, but it would be a great class for the last week of class to take a break from pressured learned before final exams. It is a time to get them thinking about potential research ideas and their futures!  \n",
    "**Graduate Physical Chemistry Students**  \n",
    "While I have been able to speak from a somewhat instructorial perspective for the undergraduate classes, I have only ever seen graduate classes from the perspective of a student. However, I don’t think this leaves me lacking with ideas. Graduate students are often more prepared and more serious students than undergraduates. They are ready to focus on their favorite area of study and get down to the nitty gritty in their research. Graduate level physical chemistry classes often include the option to take a Computational Chemistry course. These courses teach not only the theory but also the practical implementation of computational methods. A discussion on optimization is one of the first things to occur after the Physical Chemistry review. It is the core tenant of what Computational Chemistry is built on.  \n",
    "This concept would be first introduced in the classic chalk talk fashion walking through some of the history of optimization methods and how each has improved upon the last. This would end with a discussion of the most current cutting edge optimization methods being used and how they are being implemented across research studies. It would be a good idea to assign each student or pair an article each on a different optimization method to summarize and lead a discussion with their peers. This would get them involved reading articles in a less structured manner but in a lower risk environment if they work in pairs. After each group teaches the class about their optimization method, the instructor can work through some of the current mathematical ideas that were discussed. If there is a laboratory portion of class, this could be used to implement the coding methods through problem-solving project-based lab designs to engage the students in solving an actual optimization problem by implementing the code necessary to solve the question at hand. This course takes a deep dive into optimization methods for Computational Chemistry and this is just one example of how optimization could be introduced at the beginning of the semester.  \n",
    "**Conclusion**  \n",
    "Overall, optimization is a topic that can stratify many different learning levels and long as the depth of the discussion is adjusted for the students’ current chemistry knowledge. Three example lessons have been planned for three different levels of chemistry students to introduce how optimization is used in chemistry. There is a focus at every level to connect students to current research in the field because students tend to enjoy learning about what is really going on and it can make it seem more relatable than some stuffy old white guys in a lab poking around. Getting students connected and involved in chemistry, especially in the processes scientists often perform like reading literature, can help to spark interest in future learning. Optimization is the perfect gateway to Computational Chemistry.  \n"
   ]
  },
  {
   "cell_type": "markdown",
   "metadata": {},
   "source": [
    "---\n",
    "# References\n",
    "\n",
    "The files in this Google Drive: \n",
    "https://drive.google.com/drive/folders/1SkmOX3AF3HcFc-M83uFTjinM8IA5x9qm?usp=sharing\n",
    "\n",
    "The articles here:\n",
    "https://pubs.acs.org/doi/pdf/10.1021/acs.jchemed.0c00505\n",
    "https://pubs.rsc.org/--/content/articlehtml/2006/cp/b517914a"
   ]
  },
  {
   "cell_type": "markdown",
   "metadata": {},
   "source": [
    "-----\n",
    "### Congratulations, you are done!\n",
    "\n",
    "Now, you just need to commit and push this report to your project git repository. "
   ]
  },
  {
   "cell_type": "markdown",
   "metadata": {},
   "source": [
    "----"
   ]
  }
 ],
 "metadata": {
  "anaconda-cloud": {},
  "kernelspec": {
   "display_name": "Python 3",
   "language": "python",
   "name": "python3"
  },
  "language_info": {
   "codemirror_mode": {
    "name": "ipython",
    "version": 3
   },
   "file_extension": ".py",
   "mimetype": "text/x-python",
   "name": "python",
   "nbconvert_exporter": "python",
   "pygments_lexer": "ipython3",
   "version": "3.8.3"
  }
 },
 "nbformat": 4,
 "nbformat_minor": 1
}
