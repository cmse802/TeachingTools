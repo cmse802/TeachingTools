{
 "cells": [
  {
   "cell_type": "code",
   "execution_count": 13,
   "metadata": {},
   "outputs": [],
   "source": [
    "import pandas as pd\n",
    "import os\n",
    "from functions import determine_grade, meancalc"
   ]
  },
  {
   "cell_type": "code",
   "execution_count": 2,
   "metadata": {},
   "outputs": [],
   "source": [
    "# might need to pass in list of assignments and point values (as a dictionary?)"
   ]
  },
  {
   "cell_type": "code",
   "execution_count": 3,
   "metadata": {},
   "outputs": [],
   "source": [
    "class student():\n",
    "    def __init__(self,username,ptsDict):\n",
    "        self.str = 'Hello World Student'\n",
    "        self.uname = username\n",
    "        \n",
    "        # A dictionary with key = assignment name and entry = grade for that assignment\n",
    "        # Grade for the class including no submission and needs grading\n",
    "        # Grade for the class excluding anything that doesnt have a score listed\n",
    "        # A list of assignment names that 'Needs submission'\n",
    "        # A list of assignment names that 'Needs grading'\n",
    "        \n",
    "    def __str__(self):\n",
    "        rope = 'This is what comes out of print(), Student'\n",
    "        return rope"
   ]
  },
  {
   "cell_type": "code",
   "execution_count": 4,
   "metadata": {},
   "outputs": [],
   "source": [
    "class assignment():\n",
    "    def __init__(self,assignname,sectData):\n",
    "        self.str = 'Hello World Assignment'\n",
    "        self.aname = assignname\n",
    "        \n",
    "        # An avg grade for that assignment\n",
    "        # A list of usernames with 'No submission'\n",
    "        # A list of usernames with 'Needs grading'\n",
    "        \n",
    "    def __str__(self):\n",
    "        rope = 'This is what comes out of print(), Assignment'\n",
    "        return rope"
   ]
  },
  {
   "cell_type": "code",
   "execution_count": 5,
   "metadata": {},
   "outputs": [],
   "source": [
    "# This takes in a directory name as a string\n",
    "# This needs to take a directory, loop over the files in it\n",
    "# Run get_section for all the files\n",
    "# Store this in a dictionary with key = sectnumber as a string and entry = object instance of a section"
   ]
  },
  {
   "cell_type": "code",
   "execution_count": 67,
   "metadata": {},
   "outputs": [],
   "source": [
    "class course():\n",
    "    \n",
    "    def __init__(self,directory):\n",
    "        self.str = 'Hello World Course'\n",
    "        self.dir = directory # Do I need this? Is this useful?\n",
    "        \n",
    "        dictionary = {}\n",
    "        listofsections = []\n",
    "        for i in os.listdir(directory):\n",
    "            print(i[-7:])\n",
    "#             sectionnumber = 'bleep'\n",
    "#             listofsections.append(sectionnumber)\n",
    "#             tempsect = course.get_section('03','./exampledata/CEM153/CEM153_03_Stripped.csv')\n",
    "#             dictionary['sectionnumber'] = tempsect\n",
    "#         self.sectD = dictionary\n",
    "#         self.snumsL = listofsections\n",
    "        \n",
    "    def get_section(self,sectnum,filename):\n",
    "        # This is meant to call the section class and create a section object from the sectnum input\n",
    "        sect = section(sectnum,filename)\n",
    "        return sect\n",
    "        # A dictionary with key = section number entry = list of student usernames\n",
    "        # A list of all student usernames in the course\n",
    "        # A dictionary with key = section number and entry = list of assignment names\n",
    "        # A dictionary with key = section number and entry = list of points possible for each assignment (same order as list of assignment names)\n",
    "        # A dictionary with key = section number and entry = list of average grade for each assignment at section level (same order as list of assignment names)\n",
    "        # ?A dictionary with key = section number and entry = (dictionary key = assignment name and entry = list of student usernames with missing assignments)\n",
    "        # ?A dictionary with key = section number and entry = (dictionary key = assignment name and entry = list of student usernames with needs grading)\n",
    "        # A dictionary with key = assignment name and entry = course average grade for sections with that assignment\n",
    "        \n",
    "    def __str__(self):\n",
    "        rope = 'This is what comes out of print(), Course'\n",
    "        return rope"
   ]
  },
  {
   "cell_type": "code",
   "execution_count": 68,
   "metadata": {},
   "outputs": [],
   "source": [
    "class section():\n",
    "    def __init__(self,sectnum,filename):\n",
    "        self.str = 'Hello World Section'\n",
    "        self.snum = sectnum\n",
    "        dataF = pd.read_csv(filename)\n",
    "        \n",
    "        # data wrangling on the data frame\n",
    "            # including list of shortened assignment names\n",
    "            # including list of points possible (the name string split happens at the section level)\n",
    "        \n",
    "        self.dataF = dataF\n",
    "        self.ptsD = {}\n",
    "        \n",
    "        # A List of students in the section\n",
    "        # A dictionary with key = user name and entry = assignment names that need submission\n",
    "        # A dictionary with key = user name and entry = assignment names that need grading\n",
    "        # A list of assignments in that section\n",
    "        # A dictionary with key = assignment name and entry = points possible\n",
    "        # A dictionary with key = assignment name and entry = avg grade for that assignment at section level\n",
    "        # A dictionary with key = assignment name and entry = usernames that need submision\n",
    "        # A dictionary with key = assignment name and entry = usernames that need grading\n",
    "        \n",
    "    def __str__(self):\n",
    "        rope = 'This is what comes out of print(), Section'\n",
    "        return rope\n",
    "    \n",
    "    def get_student(self,username,ptsDict):\n",
    "        # This is meant to call the student class and create a student object from the username input\n",
    "        stu = student(username,ptsDict)\n",
    "        return stu\n",
    "    \n",
    "    def get_assignment(self,assignname,data):\n",
    "        # This is meant to call the assignment class and create an assignment object from the assignname input\n",
    "        assign = assignment(assignname,data)\n",
    "        return assign"
   ]
  },
  {
   "cell_type": "code",
   "execution_count": 69,
   "metadata": {},
   "outputs": [
    {
     "name": "stdout",
     "output_type": "stream",
     "text": [
      "CEM153_02_Stripped.csv\n",
      "CEM153_04_Stripped.csv\n",
      "CEM153_01H_Stripped.csv\n",
      "CEM153_05_Stripped.csv\n",
      "CEM153_03_Stripped.csv\n"
     ]
    }
   ],
   "source": [
    "cem = course('./exampledata/CEM153/')\n",
    "sect = cem.get_section('03','./exampledata/CEM153/CEM153_03_Stripped.csv')\n",
    "assn = sect.get_assignment('L2 - Worksheet',sect.dataF)\n",
    "stud = sect.get_student('cdooku',sect.ptsD)"
   ]
  },
  {
   "cell_type": "code",
   "execution_count": 70,
   "metadata": {},
   "outputs": [
    {
     "name": "stdout",
     "output_type": "stream",
     "text": [
      "L2 - Worksheet\n"
     ]
    }
   ],
   "source": [
    "# print(cem.str)\n",
    "# print(sect.snum)\n",
    "print(assn.aname)\n",
    "# print(stud.uname)"
   ]
  },
  {
   "cell_type": "code",
   "execution_count": 71,
   "metadata": {},
   "outputs": [
    {
     "name": "stdout",
     "output_type": "stream",
     "text": [
      "{}\n"
     ]
    }
   ],
   "source": [
    "print(sect.ptsD)"
   ]
  },
  {
   "cell_type": "code",
   "execution_count": 22,
   "metadata": {},
   "outputs": [
    {
     "data": {
      "text/plain": [
       "['CEM153_02_Stripped.csv',\n",
       " 'CEM153_04_Stripped.csv',\n",
       " 'CEM153_01H_Stripped.csv',\n",
       " 'CEM153_05_Stripped.csv',\n",
       " 'CEM153_03_Stripped.csv']"
      ]
     },
     "execution_count": 22,
     "metadata": {},
     "output_type": "execute_result"
    }
   ],
   "source": [
    "os.listdir('./exampledata/CEM153/')"
   ]
  },
  {
   "cell_type": "code",
   "execution_count": null,
   "metadata": {},
   "outputs": [],
   "source": []
  }
 ],
 "metadata": {
  "kernelspec": {
   "display_name": "Python 3",
   "language": "python",
   "name": "python3"
  },
  "language_info": {
   "codemirror_mode": {
    "name": "ipython",
    "version": 3
   },
   "file_extension": ".py",
   "mimetype": "text/x-python",
   "name": "python",
   "nbconvert_exporter": "python",
   "pygments_lexer": "ipython3",
   "version": "3.8.5"
  }
 },
 "nbformat": 4,
 "nbformat_minor": 4
}
