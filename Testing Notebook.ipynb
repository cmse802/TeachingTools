{
 "cells": [
  {
   "cell_type": "code",
   "execution_count": null,
   "metadata": {},
   "outputs": [],
   "source": [
    "import pandas as pd"
   ]
  },
  {
   "cell_type": "code",
   "execution_count": null,
   "metadata": {},
   "outputs": [],
   "source": [
    "def determine_grade(scores):\n",
    "    if scores >= 93 and scores <= 100:\n",
    "        return 'A'\n",
    "    elif scores >= 90 and scores < 93:\n",
    "        return 'A-'\n",
    "    elif scores >= 87 and scores < 90:\n",
    "        return 'B+'\n",
    "    elif scores >= 83 and scores < 87:\n",
    "        return 'B'\n",
    "    elif scores >= 80 and scores < 83:\n",
    "        return 'B-'\n",
    "    elif scores >= 77 and scores < 80:\n",
    "        return 'C+'\n",
    "    elif scores >= 73 and scores < 77:\n",
    "        return 'C'\n",
    "    elif scores >= 70 and scores < 73:\n",
    "        return 'C-'\n",
    "    elif scores >= 67 and scores < 70:\n",
    "        return 'D+'\n",
    "    elif scores >= 63 and scores < 67:\n",
    "        return 'D'\n",
    "    elif scores >= 60 and scores < 63:\n",
    "        return 'D-'\n",
    "    else:\n",
    "        return 'F'"
   ]
  },
  {
   "cell_type": "code",
   "execution_count": null,
   "metadata": {},
   "outputs": [],
   "source": [
    "data = pd.read_csv('./exampledata/CEM153_03_Stripped.csv')\n",
    "dropColumns = ['Availability','Weighted Total','Total [Total','Safety Contract']\n",
    "matching = [s for s in data.columns if any(xs in s for xs in dropColumns)]\n",
    "data = data.drop(columns=matching)\n",
    "deadColumnsBool = data.isnull().values.all(axis=0)\n",
    "deadColumns = []\n",
    "for i in range(len(deadColumnsBool)):\n",
    "    if deadColumnsBool[i] == True:\n",
    "        ind = data.columns[i]\n",
    "        deadColumns.append(ind)\n",
    "data = data.drop(columns=deadColumns)\n",
    "data = data.set_index(['Username'])\n",
    "data = data[:].fillna('No Submission')"
   ]
  },
  {
   "cell_type": "code",
   "execution_count": null,
   "metadata": {},
   "outputs": [],
   "source": [
    "data"
   ]
  },
  {
   "cell_type": "markdown",
   "metadata": {},
   "source": [
    "# Should I be using a dictionary instead of a pandas dataframe? "
   ]
  },
  {
   "cell_type": "markdown",
   "metadata": {},
   "source": [
    "# When I eventually load in all the sections for one class, I am going to need to compile a master list of students and their sections and stuff"
   ]
  },
  {
   "cell_type": "markdown",
   "metadata": {},
   "source": [
    "# I think I want to make a schedule to mark the dates of the assignments so I can attach due dates to them, but that's wishful thinking"
   ]
  },
  {
   "cell_type": "markdown",
   "metadata": {},
   "source": [
    "# When the files get imported and I bring in 5 files at onces, when I bring them in I should make sure there is a new column added with the section number."
   ]
  },
  {
   "cell_type": "markdown",
   "metadata": {},
   "source": [
    "# Right now I have everything organized by student but may need to change this to think about things by section. I feel like this is the same problem I had with my research in excel this summer so I gotta figure out how to transform or slice the data for the assignments section because I'll need info from each section for each assignment to be compiled. Idk if just assigning a section number as a column is the most efficient way to do this if I have loops on loops."
   ]
  },
  {
   "cell_type": "code",
   "execution_count": null,
   "metadata": {},
   "outputs": [],
   "source": [
    "### STUDENT ###\n",
    "## If you give first/last name it will pull up a list of names to then select from\n",
    "# Student Name (F&L), username, student id, Section Number**********<- need to add this\n",
    "# Attendance: *gives percentage*\n",
    "# Calculated Grade including Missing Assignments as 0's: *gives grade as %, letter*\n",
    "# Calculated Grade excluding Missing Assignments: *gives grades as %, letter*\n",
    "# Section Average: *gives section average grade as %, letter* <- going to have to think about this in terms of data transformation\n",
    "# Class Average: *gives class average grade as %, letter*\n",
    "# Missing Assignments: *gives list like: assignment 1, assignment 2, ...* (each item on separate line)"
   ]
  },
  {
   "cell_type": "code",
   "execution_count": null,
   "metadata": {},
   "outputs": [],
   "source": [
    "class student:\n",
    "    def __init__(self,data,username):\n",
    "        self.data = data\n",
    "        self.username = username\n",
    "        self.fname = data.at[username,'First Name']\n",
    "        self.lname = data.at[username,'Last Name']\n",
    "        self.stuid = data.at[username,'Student ID']\n",
    "        self.attend = data.at[username,data.filter(like='Attendance').columns[0]]\n",
    "        self.studata = data.loc[[username]]\n",
    "        \n",
    "        data = data.drop(columns=data.filter(like='Attendance').columns[0])\n",
    "        tot = 0\n",
    "        stot = 0\n",
    "        nmstot = 0\n",
    "        for i in range(len(self.studata.columns)):\n",
    "            tot+=2\n",
    "            stot+=0\n",
    "            nmstot+=1\n",
    "        self.miss = stot/tot\n",
    "        self.nomiss = nmstot/tot"
   ]
  },
  {
   "cell_type": "code",
   "execution_count": null,
   "metadata": {},
   "outputs": [],
   "source": [
    "hi = student(data,'cdooku')"
   ]
  },
  {
   "cell_type": "code",
   "execution_count": null,
   "metadata": {},
   "outputs": [],
   "source": [
    "hi.nomiss"
   ]
  },
  {
   "cell_type": "code",
   "execution_count": null,
   "metadata": {},
   "outputs": [],
   "source": [
    "### ASSIGNMENT ###\n",
    "## Gives a list of assignments to choose from if necessary \n",
    "# Assignment Name, points possible\n",
    "# Calculated Avg for each section without 0's or missing assignmnets or 'Needs Grading'\n",
    "# Calculated Avg for all sections ''\n",
    "# Breakdown of who hasn't turned this in by section\n",
    "# Breakdown of how many per section need to be graded\n",
    "# Plot of section grades with course average as a line"
   ]
  },
  {
   "cell_type": "code",
   "execution_count": null,
   "metadata": {},
   "outputs": [],
   "source": [
    "### COURSE ###\n",
    "# Calculated Section Average\n",
    "# Calculated Grade for All Sections\n",
    "# Breakdown of Grades by assignment (section and class averages given)\n",
    "# Compare sections with anova table\n",
    "# Plots?"
   ]
  }
 ],
 "metadata": {
  "kernelspec": {
   "display_name": "Python 3",
   "language": "python",
   "name": "python3"
  },
  "language_info": {
   "codemirror_mode": {
    "name": "ipython",
    "version": 3
   },
   "file_extension": ".py",
   "mimetype": "text/x-python",
   "name": "python",
   "nbconvert_exporter": "python",
   "pygments_lexer": "ipython3",
   "version": "3.8.3"
  }
 },
 "nbformat": 4,
 "nbformat_minor": 4
}
