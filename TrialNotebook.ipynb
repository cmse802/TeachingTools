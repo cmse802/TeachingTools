{
 "cells": [
  {
   "cell_type": "code",
   "execution_count": null,
   "metadata": {},
   "outputs": [],
   "source": [
    "import pandas as pd"
   ]
  },
  {
   "cell_type": "code",
   "execution_count": null,
   "metadata": {},
   "outputs": [],
   "source": [
    "def determine_grade(scores):\n",
    "    if scores >= 93 and scores <= 100:\n",
    "        return 'A'\n",
    "    elif scores >= 90 and scores < 93:\n",
    "        return 'A-'\n",
    "    elif scores >= 87 and scores < 90:\n",
    "        return 'B+'\n",
    "    elif scores >= 83 and scores < 87:\n",
    "        return 'B'\n",
    "    elif scores >= 80 and scores < 83:\n",
    "        return 'B-'\n",
    "    elif scores >= 77 and scores < 80:\n",
    "        return 'C+'\n",
    "    elif scores >= 73 and scores < 77:\n",
    "        return 'C'\n",
    "    elif scores >= 70 and scores < 73:\n",
    "        return 'C-'\n",
    "    elif scores >= 67 and scores < 70:\n",
    "        return 'D+'\n",
    "    elif scores >= 63 and scores < 67:\n",
    "        return 'D'\n",
    "    elif scores >= 60 and scores < 63:\n",
    "        return 'D-'\n",
    "    else:\n",
    "        return 'F'"
   ]
  },
  {
   "cell_type": "code",
   "execution_count": null,
   "metadata": {},
   "outputs": [],
   "source": [
    "def meancalc(lst):\n",
    "    nstu = 0\n",
    "    tot = 0\n",
    "    for i in lst:\n",
    "        if i == 'Needs Grading':\n",
    "            continue\n",
    "        elif i == 'No Submission':\n",
    "            continue\n",
    "        elif i == 0:\n",
    "            continue\n",
    "        else:\n",
    "            nstu+=1\n",
    "            tot+=float(i)\n",
    "    return tot/nstu"
   ]
  },
  {
   "cell_type": "markdown",
   "metadata": {},
   "source": [
    "# Some where in the data processing up here I should combine all the sections and assign a column with section name and assign a point total to each assignment"
   ]
  },
  {
   "cell_type": "markdown",
   "metadata": {},
   "source": [
    "# When I do this, I need to figure out what to do with the honors work, maybe include a line that splits the honors info or adds a y/n honors column but then what do I do with non-honors students in the blank columns because some honors students didn't submit work so I would need an if for that sit."
   ]
  },
  {
   "cell_type": "markdown",
   "metadata": {},
   "source": [
    "So give a list of the things\n",
    "loop over them to add the section number and honors information\n",
    "then if there is an honors section"
   ]
  },
  {
   "cell_type": "code",
   "execution_count": null,
   "metadata": {},
   "outputs": [],
   "source": [
    "sectList = ['01H','02','03','04','05']\n",
    "dropColumns = ['Availability','Weighted Total','Total [Total','Safety Contract']\n",
    "\n",
    "dataDict = {}\n",
    "dataNames = []\n",
    "for j in sectList:\n",
    "    exec('data' + j + \"= pd.read_csv('./exampledata/CEM153_'+j+'_Stripped.csv')\")\n",
    "    exec('data' + j + \"['Section']=j\")\n",
    "    if 'H' in j:\n",
    "        exec('data' + j + \"['Honors']='Y'\")\n",
    "    else:\n",
    "        exec('data' + j + \"['Honors']='N'\")\n",
    "    dataDict['data'+j]=locals()['data'+j]\n",
    "    temp = dataDict['data'+j]\n",
    "    matching = [s for s in temp.columns if any(xs in s for xs in dropColumns)]\n",
    "    temp = temp.drop(columns=matching)\n",
    "    collist = []\n",
    "    for k in temp.columns:\n",
    "        end = k.find(']')\n",
    "        if 'Attendance' in k:\n",
    "            collist.append('Attendance')\n",
    "        elif end != -1:\n",
    "            collist.append(k[0:end+1])\n",
    "        else:\n",
    "            collist.append(k)\n",
    "    temp.columns=collist\n",
    "    temp = temp.set_index(['Username'])\n",
    "    ### ADD THIS IN AS AN OPTION BUT I WANT IT IN FOR NOW ###\n",
    "    deadColumnsBool = temp.isnull().values.all(axis=0)\n",
    "    deadColumns = []\n",
    "    for i in range(len(deadColumnsBool)):\n",
    "        if deadColumnsBool[i] == True:\n",
    "            ind = temp.columns[i]\n",
    "            deadColumns.append(ind)\n",
    "    temp = temp.drop(columns=deadColumns)\n",
    "    temp = temp[:].fillna('No Submission')\n",
    "    dataDict['data'+j]=temp\n",
    "    dataNames.append('data'+j)"
   ]
  },
  {
   "cell_type": "code",
   "execution_count": null,
   "metadata": {},
   "outputs": [],
   "source": [
    "dataNames"
   ]
  },
  {
   "cell_type": "markdown",
   "metadata": {},
   "source": [
    "# Should I be using a dictionary instead of a pandas dataframe? "
   ]
  },
  {
   "cell_type": "markdown",
   "metadata": {},
   "source": [
    "# When I eventually load in all the sections for one class, I am going to need to compile a master list of students and their sections and stuff"
   ]
  },
  {
   "cell_type": "markdown",
   "metadata": {},
   "source": [
    "# I think I want to make a schedule to mark the dates of the assignments so I can attach due dates to them, but that's wishful thinking"
   ]
  },
  {
   "cell_type": "markdown",
   "metadata": {},
   "source": [
    "# When the files get imported and I bring in 5 files at onces, when I bring them in I should make sure there is a new column added with the section number."
   ]
  },
  {
   "cell_type": "markdown",
   "metadata": {},
   "source": [
    "# Right now I have everything organized by student but may need to change this to think about things by section. I feel like this is the same problem I had with my research in excel this summer so I gotta figure out how to transform or slice the data for the assignments section because I'll need info from each section for each assignment to be compiled. Idk if just assigning a section number as a column is the most efficient way to do this if I have loops on loops."
   ]
  },
  {
   "cell_type": "markdown",
   "metadata": {},
   "source": [
    "# I need an outside program to call my classes that can choose to do one student, students by section, or all students and same for assignments and all the combinations of the two. Something with flags/options and argparse"
   ]
  },
  {
   "cell_type": "code",
   "execution_count": null,
   "metadata": {},
   "outputs": [],
   "source": [
    "### STUDENT ###\n",
    "## If you give first/last name it will pull up a list of names to then select from\n",
    "# Student Name (F&L), username, student id, Section Number**********<- need to add this\n",
    "# Attendance: *gives percentage*\n",
    "# Calculated Grade including Missing Assignments as 0's: *gives grade as %, letter*\n",
    "# Calculated Grade excluding Missing Assignments: *gives grades as %, letter*\n",
    "# Section Average: *gives section average grade as %, letter* <- going to have to think about this in terms of data transformation\n",
    "# Course Average: *gives class average grade as %, letter*\n",
    "# Missing Assignments: *gives list like: assignment 1, assignment 2, ...* (each item on separate line)"
   ]
  },
  {
   "cell_type": "code",
   "execution_count": null,
   "metadata": {},
   "outputs": [],
   "source": [
    "### Included in class student ###\n",
    "# Student Name                  as fname & lname\n",
    "# username                      as uname\n",
    "# student id                    as stuid\n",
    "# section number                as sect\n",
    "# honors status                 as honors\n",
    "# attendance %                  as attendance\n",
    "# allgrades %                   as allgradesp\n",
    "# allgrades letter              as allgradesl\n",
    "# onlygraded %                  as onlygradedp\n",
    "# onlygraded letter             as onlygradedl\n",
    "# list of missing work          as missingwork\n",
    "# list of needs to be graded    as needsgrading\n",
    "\n",
    "### To be included in outside loops ###\n",
    "# List of potentially matching students or list of students & user names\n",
    "# Section Average Grade\n",
    "# Course Average Grade"
   ]
  },
  {
   "cell_type": "code",
   "execution_count": null,
   "metadata": {},
   "outputs": [],
   "source": [
    "class student:\n",
    "    def __init__(self,dataF,username):\n",
    "        self.uname = username\n",
    "        if username in dataF.index.values.tolist():\n",
    "            self.fname = dataF.at[username,'First Name']\n",
    "            self.lname = dataF.at[username,'Last Name']\n",
    "            self.stuid = dataF.at[username,'Student ID']\n",
    "            self.sect = dataF.at[username,'Section']\n",
    "            self.honors = dataF.at[username,'Honors']\n",
    "            self.attendance = dataF.at[username,'Attendance']\n",
    "            self.studata = dataF.loc[[username]]\n",
    "            \n",
    "            dropColumns = []\n",
    "            for j in dataF.columns:\n",
    "                if 'Pts' in j:\n",
    "                    continue\n",
    "                else:\n",
    "                    dropColumns.append(j)\n",
    "            matching = [s for s in dataF.columns if any(xs in s for xs in dropColumns)]\n",
    "            data2 = dataF.drop(columns=dropColumns)\n",
    "            stot = 0\n",
    "            allgrades = 0\n",
    "            onlygraded = 0\n",
    "            mwork = []\n",
    "            ngrade = []\n",
    "            for i in range(len(data2.columns)):\n",
    "                colname = data2.columns[i]\n",
    "                start = colname.find('[')\n",
    "                end = colname.find(']')\n",
    "                allgrades+=float(colname[start+12:end-6])\n",
    "                if data2.at[self.uname,colname] == 'Needs Grading' or data2.at[self.uname,colname] == 'No Submission':\n",
    "                    stot+=0\n",
    "                    onlygraded+=0\n",
    "                    if data2.at[self.uname,colname] == 'Needs Grading':\n",
    "                        colname = colname[0:start]\n",
    "                        ngrade.append(colname)\n",
    "                    elif data2.at[self.uname,colname] == 'No Submission':\n",
    "                        colname = colname[0:start]\n",
    "                        mwork.append(colname)\n",
    "                else:\n",
    "                    onlygraded+=float(colname[start+12:end-6])\n",
    "                    stot+=float(data2.at[self.uname,colname])\n",
    "            self.allgradesp = (stot/allgrades)*100\n",
    "            self.allgradesl = determine_grade(self.allgradesp)\n",
    "            self.onlygradedp = (stot/onlygraded)*100\n",
    "            self.onlygradedl = determine_grade(self.onlygradedp)\n",
    "            if mwork == []:\n",
    "                mwork = ['You have no work that is missing']\n",
    "            if ngrade == []:\n",
    "                ngrade = ['You have no work that needs grading']\n",
    "            self.missingwork = mwork\n",
    "            self.needsgrading = ngrade\n",
    "        else:\n",
    "            self.fname = ['There is no student with that name in the given data list']\n",
    "            self.lname = ['There is no student with that name in the given data list']\n",
    "            self.stuid = ['There is no student with that name in the given data list']\n",
    "            self.sect = ['There is no student with that name in the given data list']\n",
    "            self.honors = ['There is no student with that name in the given data list']\n",
    "            self.attendance = ['There is no student with that name in the given data list']\n",
    "            self.studata = ['There is no student with that name in the given data list']\n",
    "            self.allgradesp = ['There is no student with that name in the given data list']\n",
    "            self.allgradesl = ['There is no student with that name in the given data list']\n",
    "            self.onlygradedp = ['There is no student with that name in the given data list']\n",
    "            self.onlygradedl = ['There is no student with that name in the given data list']\n",
    "            self.missingwork = ['There is no student with that name in the given data list']\n",
    "            self.needsgrading = ['There is no student with that name in the given data list']"
   ]
  },
  {
   "cell_type": "code",
   "execution_count": null,
   "metadata": {},
   "outputs": [],
   "source": [
    "# jnu      -> Submitted all assignments, All assignments graded\n",
    "# cdooku   -> Missing submissions,       Needs grading\n",
    "# dtyranus -> Submitted all assignments, Needs grading\n",
    "# dbane    -> Missing submissions,       All assignments graded"
   ]
  },
  {
   "cell_type": "code",
   "execution_count": null,
   "metadata": {},
   "outputs": [],
   "source": [
    "stu1 = student(dataDict['data03'],'cdooku')\n",
    "print('uname',stu1.uname)\n",
    "print('fname & lname',stu1.fname,stu1.lname)\n",
    "print('stuid',stu1.stuid)\n",
    "print('sect',stu1.sect)\n",
    "print('honors',stu1.honors)\n",
    "print('attendance',stu1.attendance)\n",
    "print('studata',stu1.studata)\n",
    "print('allgradesp',stu1.allgradesp)\n",
    "print('allgradesl',stu1.allgradesl)\n",
    "print('onlygradedp',stu1.onlygradedp)\n",
    "print('onlygradedl',stu1.onlygradedl)\n",
    "print('missing work',stu1.missingwork)\n",
    "print('needs grading',stu1.needsgrading)"
   ]
  },
  {
   "cell_type": "code",
   "execution_count": null,
   "metadata": {},
   "outputs": [],
   "source": [
    "### ASSIGNMENT ###\n",
    "## Gives a list of assignments to choose from if necessary \n",
    "# Assignment Name, points possible\n",
    "# Calculated Avg for each section without 0's or missing assignmnets or 'Needs Grading'\n",
    "# Calculated Avg for all sections ''\n",
    "# Breakdown of who hasn't turned this in by section\n",
    "# Breakdown of how many per section need to be graded\n",
    "# Plot of section grades with course average as a line"
   ]
  },
  {
   "cell_type": "code",
   "execution_count": null,
   "metadata": {},
   "outputs": [],
   "source": [
    "# ## OGOGOG ###\n",
    "# class assignment:\n",
    "    \n",
    "#     def __init__(self,dataD,names,assignname):\n",
    "#         self.name = assignname\n",
    "        \n",
    "#         start = self.name.find('[')\n",
    "#         end = self.name.find(']')\n",
    "#         self.points = float(self.name[start+12:end-6])\n",
    "        \n",
    "#         adata = []\n",
    "#         sdata = []\n",
    "#         haves = []\n",
    "#         nots = []\n",
    "#         for n in names:\n",
    "#             temp = dataD[n]\n",
    "#             if assignname in temp.columns:\n",
    "#                 sdata.append(temp[assignname].tolist())\n",
    "#                 adata.extend(temp[assignname].tolist())\n",
    "#                 haves.append(n)\n",
    "#             else:\n",
    "#                 nots.append(n)\n",
    "#         if haves != []:\n",
    "#             if len(sdata) > 1:\n",
    "#                 sdatam = []\n",
    "#                 sdatal = []\n",
    "#                 for j in range(len(sdata)):\n",
    "#                     print('j',j)\n",
    "#                     sdatam.append(meancalc(sdata[j]))\n",
    "#                     sdatal.append(determine_grade(sdatam[j]))\n",
    "#                     sgrade = []\n",
    "#                     smiss = []\n",
    "#                     ind = temp.index.tolist()\n",
    "#                     print('ind',ind)\n",
    "#                     print('ind len',len(ind))\n",
    "#                     print('sdata[j]',sdata[j])\n",
    "#                     for k in range(len(sdata[j])):\n",
    "#                         print('k',k)\n",
    "#                         if sdata[j][k] == 'Needs Grading':\n",
    "#                             print('This triggered if: ',sdata[j][k])\n",
    "#                             #print(ind[k])\n",
    "#                             #sgrade.append()\n",
    "#                         elif sdata[j][k] == 'No Submission':\n",
    "#                             print('This triggered elif: ',sdata[j][k])\n",
    "#                             #print(ind[k])\n",
    "#                             #smiss.append()\n",
    "#                         else:\n",
    "#                             continue\n",
    "#                 self.sectavgs = sdatam\n",
    "#                 self.sectlets = sdatal\n",
    "#                 #self.sectngraded = \n",
    "#                 #self.sectmissing = \n",
    "#             else:\n",
    "#                 self.sectavgs = ['There is only one section with this assignment so sectavgs = courseavg']\n",
    "#                 self.sectlets = ['There is only one section with this assignment so sectlets = courselet']\n",
    "#             self.courseavg = meancalc(adata)\n",
    "#             self.courselet = determine_grade(self.courseavg)\n",
    "#             if nots == []:\n",
    "#                 nots.append('All sections have this assignment')\n",
    "#         else:\n",
    "#             haves.append('There are no assignments with this name in any of the sections')\n",
    "#             self.sectavgs = ['There are no assignments with this name in any of the sections']\n",
    "#             self.sectlets = ['There are no assignments with this name in any of the sections']\n",
    "#             self.courseavg = ['There are no assignments with this name in any of the sections']\n",
    "#             self.courselet = ['There are no assignments with this name in any of the sections']\n",
    "#         self.coursedata = adata\n",
    "#         self.sectdata = sdata\n",
    "#         self.haves = haves\n",
    "#         self.nots = nots\n",
    "        \n",
    "#         print(sdata)\n",
    "        \n",
    "#         # Breakdown of who hasn't turned this in by section\n",
    "#         # Breakdown of how many per section need to be graded"
   ]
  },
  {
   "cell_type": "code",
   "execution_count": null,
   "metadata": {},
   "outputs": [],
   "source": [
    "class assignment:\n",
    "    \n",
    "    def __init__(self,dataD,names,assignname):\n",
    "        self.name = assignname\n",
    "        \n",
    "        start = self.name.find('[')\n",
    "        end = self.name.find(']')\n",
    "        self.points = float(self.name[start+12:end-6])\n",
    "        \n",
    "        adata = []\n",
    "        sdata = []\n",
    "        haves = []\n",
    "        nots = []\n",
    "        smisst = []\n",
    "        amisst = []\n",
    "        sgradet = []\n",
    "        agradet = []\n",
    "        for n in names:\n",
    "            print('section',n)\n",
    "            temp = dataD[n]\n",
    "            if assignname in temp.columns:\n",
    "                sdata.append(temp[assignname].tolist())\n",
    "                adata.extend(temp[assignname].tolist())\n",
    "                haves.append(n)\n",
    "            else:\n",
    "                nots.append(n)\n",
    "            if haves != []:\n",
    "                self.haves = haves\n",
    "                if len(sdata) > 1:\n",
    "                    print('WOO')\n",
    "#                     sdatam = []\n",
    "#                     sdatal = []\n",
    "#                     for j in range(len(sdata)):\n",
    "#                         print('j',j)\n",
    "#                         sdatam.append(meancalc(sdata[j]))\n",
    "#                         sdatal.append(determine_grade(sdatam[j]))\n",
    "#                         sgrade = []\n",
    "#                         smiss = []\n",
    "#                         print('sdata[j]',sdata[j])\n",
    "#                         for k in range(len(sdata[j])):\n",
    "#                             print('k',k)\n",
    "#                             if sdata[j][k] == 'Needs Grading':\n",
    "#                                 print('This triggered if: ',sdata[j][k])\n",
    "#                                 #print(ind[k])\n",
    "#                                 #sgrade.append()\n",
    "#                             elif sdata[j][k] == 'No Submission':\n",
    "#                                 print('This triggered elif: ',sdata[j][k])\n",
    "#                                 #print(ind[k])\n",
    "#                                 #smiss.append()\n",
    "#                             else:\n",
    "#                                 continue\n",
    "#                     self.sectavgs = sdatam\n",
    "#                     self.sectlets = sdatal\n",
    "#                     #self.sectngrade = \n",
    "#                     #self.sectmissing = \n",
    "                elif len(sdata) == 1:\n",
    "                    self.sectavgs = ['There is only one section with this assignment so sectavgs = courseavg']\n",
    "                    self.sectlets = ['There is only one section with this assignment so sectlets = courselet']\n",
    "                    self.sectgraded = ['There is only one section with this assignment so sectgraded = coursegraded']\n",
    "                    self.sectmissing = ['There is only one section with this assignment so sectmissing = coursemissing']\n",
    "                else:\n",
    "                    self.sectavgs = ['There is only one section with this assignment so sectavgs = courseavg']\n",
    "                    self.sectlets = ['There is only one section with this assignment so sectlets = courselet']\n",
    "                self.courseavg = meancalc(adata)\n",
    "                self.courselet = determine_grade(self.courseavg)\n",
    "                agrade = []\n",
    "                amiss = []\n",
    "                sgrade = []\n",
    "                smiss = []\n",
    "                for q in range(len(temp[assignname])):\n",
    "                    if temp[assignname][q] == 'Needs Grading':\n",
    "                        print('This triggered if: ',temp[assignname][q])\n",
    "                        print(temp.index.values[q])\n",
    "                        sgrade.append(temp.index.values[q])\n",
    "                    elif temp[assignname][q] == 'No Submission':\n",
    "                        print('This triggered elif: ',temp[assignname][q])\n",
    "                        print(temp.index.values[q])\n",
    "                        smiss.append(temp.index.values[q])\n",
    "                    else:\n",
    "                        continue\n",
    "                print('smiss',smiss)\n",
    "                print('amiss',amiss)\n",
    "                smisst.append(smiss)\n",
    "                amisst.extend(amiss)\n",
    "                print('smisst',smisst)\n",
    "                print('amisst',amisst)\n",
    "            else:\n",
    "                self.haves = ['There are no assignments with this name in any of the sections']\n",
    "                self.sectavgs = ['There are no assignments with this name in any of the sections']\n",
    "                self.sectlets = ['There are no assignments with this name in any of the sections']\n",
    "                self.courseavg = ['There are no assignments with this name in any of the sections']\n",
    "                self.courselet = ['There are no assignments with this name in any of the sections']\n",
    "                self.sectgraded = ['There are no assignments with this name in any of the sections']\n",
    "                self.sectmissing = ['There are no assignments with this name in any of the sections']\n",
    "                self.allmissing = ['There are no assignments with this name in any of the sections']\n",
    "                self.allneedgrade = ['There are no assignments with this name in any of the sections']\n",
    "        if nots == []:\n",
    "            nots.append('All sections have this assignment')\n",
    "        self.coursedata = adata\n",
    "        self.sectdata = sdata\n",
    "        self.nots = nots\n",
    "        \n",
    "        # Breakdown of who hasn't turned this in by section\n",
    "        # Breakdown of how many per section need to be graded"
   ]
  },
  {
   "cell_type": "markdown",
   "metadata": {},
   "source": [
    "# Need to remember Formal and Final are named different. Should loop through columnnames to be safe"
   ]
  },
  {
   "cell_type": "code",
   "execution_count": null,
   "metadata": {},
   "outputs": [],
   "source": [
    "# L2 - Worksheet [Total Pts: 20 Score] -> Missing submissions,       Needs grading\n",
    "# L3 - PreLab [Total Pts: 10 Score]    -> Missing submissions,       All assignments graded\n",
    "# L5 - PostLab [Total Pts: 10 Score]   -> All assignments submitted, Needs grading"
   ]
  },
  {
   "cell_type": "code",
   "execution_count": null,
   "metadata": {},
   "outputs": [],
   "source": [
    "lab1 = assignment(dataDict,dataNames,'L2 - Worksheet [Total Pts: 20 Score]') \n",
    "# print('name',lab1.name)\n",
    "# print('points',lab1.points)\n",
    "# print('haves',lab1.haves)\n",
    "# print('nots',lab1.nots)\n",
    "# print('course avg',lab1.courseavg)\n",
    "# print('course let',lab1.courselet)\n",
    "# print('sect avgs',lab1.sectavgs)\n",
    "# print('sect lets',lab1.sectlets)"
   ]
  },
  {
   "cell_type": "code",
   "execution_count": null,
   "metadata": {},
   "outputs": [],
   "source": [
    "print(dataNames)"
   ]
  },
  {
   "cell_type": "markdown",
   "metadata": {},
   "source": [
    "# Should the course just be done in the outside code and not be a class because all the information I will need is stored in student and in assignment"
   ]
  },
  {
   "cell_type": "code",
   "execution_count": null,
   "metadata": {},
   "outputs": [],
   "source": [
    "### COURSE ###\n",
    "# Calculated Section Average\n",
    "# Calculated Grade for All Sections\n",
    "# Breakdown of Grades by assignment (section and class averages given)\n",
    "# Compare sections with anova table\n",
    "# Plots?"
   ]
  },
  {
   "cell_type": "code",
   "execution_count": null,
   "metadata": {},
   "outputs": [],
   "source": []
  },
  {
   "cell_type": "code",
   "execution_count": null,
   "metadata": {},
   "outputs": [],
   "source": []
  },
  {
   "cell_type": "code",
   "execution_count": null,
   "metadata": {},
   "outputs": [],
   "source": []
  }
 ],
 "metadata": {
  "kernelspec": {
   "display_name": "Python 3",
   "language": "python",
   "name": "python3"
  },
  "language_info": {
   "codemirror_mode": {
    "name": "ipython",
    "version": 3
   },
   "file_extension": ".py",
   "mimetype": "text/x-python",
   "name": "python",
   "nbconvert_exporter": "python",
   "pygments_lexer": "ipython3",
   "version": "3.8.5"
  }
 },
 "nbformat": 4,
 "nbformat_minor": 4
}
