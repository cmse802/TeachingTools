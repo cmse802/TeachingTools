{
 "cells": [
  {
   "cell_type": "code",
   "execution_count": null,
   "metadata": {},
   "outputs": [],
   "source": [
    "import pandas as pd"
   ]
  },
  {
   "cell_type": "code",
   "execution_count": null,
   "metadata": {},
   "outputs": [],
   "source": [
    "def determine_grade(scores):\n",
    "    if scores >= 93 and scores <= 100:\n",
    "        return 'A'\n",
    "    elif scores >= 90 and scores < 93:\n",
    "        return 'A-'\n",
    "    elif scores >= 87 and scores < 90:\n",
    "        return 'B+'\n",
    "    elif scores >= 83 and scores < 87:\n",
    "        return 'B'\n",
    "    elif scores >= 80 and scores < 83:\n",
    "        return 'B-'\n",
    "    elif scores >= 77 and scores < 80:\n",
    "        return 'C+'\n",
    "    elif scores >= 73 and scores < 77:\n",
    "        return 'C'\n",
    "    elif scores >= 70 and scores < 73:\n",
    "        return 'C-'\n",
    "    elif scores >= 67 and scores < 70:\n",
    "        return 'D+'\n",
    "    elif scores >= 63 and scores < 67:\n",
    "        return 'D'\n",
    "    elif scores >= 60 and scores < 63:\n",
    "        return 'D-'\n",
    "    else:\n",
    "        return 'F'"
   ]
  },
  {
   "cell_type": "markdown",
   "metadata": {},
   "source": [
    "# Some where in the data processing up here I should combine all the sections and assign a column with section name and assign a point total to each assignment"
   ]
  },
  {
   "cell_type": "markdown",
   "metadata": {},
   "source": [
    "# When I do this, I need to figure out what to do with the honors work, maybe include a line that splits the honors info or adds a y/n honors column but then what do I do with non-honors students in the blank columns because some honors students didn't submit work so I would need an if for that sit."
   ]
  },
  {
   "cell_type": "markdown",
   "metadata": {},
   "source": [
    "So give a list of the things\n",
    "loop over them to add the section number and honors information\n",
    "then if there is an honors section"
   ]
  },
  {
   "cell_type": "code",
   "execution_count": null,
   "metadata": {},
   "outputs": [],
   "source": [
    "sect = ['01H','02','03','04','05']\n",
    "dropColumns = ['Availability','Weighted Total','Total [Total','Safety Contract']\n",
    "\n",
    "dataDict = {}\n",
    "for j in sect:\n",
    "    exec('data' + j + \"= pd.read_csv('./exampledata/CEM153_'+j+'_Stripped.csv')\")\n",
    "    exec('data' + j + \"['Section']=j\")\n",
    "    if 'H' in j:\n",
    "        exec('data' + j + \"['Honors']='Y'\")\n",
    "    else:\n",
    "        exec('data' + j + \"['Honors']='N'\")\n",
    "    dataDict['data'+j]=locals()['data'+j]\n",
    "    temp = dataDict['data'+j]\n",
    "    matching = [s for s in temp.columns if any(xs in s for xs in dropColumns)]\n",
    "    temp = temp.drop(columns=matching)\n",
    "    collist = []\n",
    "    for k in temp.columns:\n",
    "        end = k.find(']')\n",
    "        if 'Attendance' in k:\n",
    "            collist.append('Attendance')\n",
    "        elif end != -1:\n",
    "            collist.append(k[0:end+1])\n",
    "        else:\n",
    "            collist.append(k)\n",
    "    temp.columns=collist\n",
    "    temp = temp.set_index(['Username'])\n",
    "    ### ADD THIS IN AS AN OPTION BUT I WANT IT IN FOR NOW ###\n",
    "    deadColumnsBool = temp.isnull().values.all(axis=0)\n",
    "    deadColumns = []\n",
    "    for i in range(len(deadColumnsBool)):\n",
    "        if deadColumnsBool[i] == True:\n",
    "            ind = temp.columns[i]\n",
    "            deadColumns.append(ind)\n",
    "    temp = temp.drop(columns=deadColumns)\n",
    "    temp = temp[:].fillna('No Submission')\n",
    "    dataDict['data'+j]=temp"
   ]
  },
  {
   "cell_type": "code",
   "execution_count": null,
   "metadata": {},
   "outputs": [],
   "source": [
    "dataDict['data01H']"
   ]
  },
  {
   "cell_type": "markdown",
   "metadata": {},
   "source": [
    "# Should I be using a dictionary instead of a pandas dataframe? "
   ]
  },
  {
   "cell_type": "markdown",
   "metadata": {},
   "source": [
    "# When I eventually load in all the sections for one class, I am going to need to compile a master list of students and their sections and stuff"
   ]
  },
  {
   "cell_type": "markdown",
   "metadata": {},
   "source": [
    "# I think I want to make a schedule to mark the dates of the assignments so I can attach due dates to them, but that's wishful thinking"
   ]
  },
  {
   "cell_type": "markdown",
   "metadata": {},
   "source": [
    "# When the files get imported and I bring in 5 files at onces, when I bring them in I should make sure there is a new column added with the section number."
   ]
  },
  {
   "cell_type": "markdown",
   "metadata": {},
   "source": [
    "# Right now I have everything organized by student but may need to change this to think about things by section. I feel like this is the same problem I had with my research in excel this summer so I gotta figure out how to transform or slice the data for the assignments section because I'll need info from each section for each assignment to be compiled. Idk if just assigning a section number as a column is the most efficient way to do this if I have loops on loops."
   ]
  },
  {
   "cell_type": "markdown",
   "metadata": {},
   "source": [
    "# I need an outside program to call my classes that can choose to do one student, students by section, or all students and same for assignments and all the combinations of the two. Something with flags/options and argparse"
   ]
  },
  {
   "cell_type": "code",
   "execution_count": null,
   "metadata": {},
   "outputs": [],
   "source": [
    "### STUDENT ###\n",
    "## If you give first/last name it will pull up a list of names to then select from\n",
    "# Student Name (F&L), username, student id, Section Number**********<- need to add this\n",
    "# Attendance: *gives percentage*\n",
    "# Calculated Grade including Missing Assignments as 0's: *gives grade as %, letter*\n",
    "# Calculated Grade excluding Missing Assignments: *gives grades as %, letter*\n",
    "# Section Average: *gives section average grade as %, letter* <- going to have to think about this in terms of data transformation\n",
    "# Course Average: *gives class average grade as %, letter*\n",
    "# Missing Assignments: *gives list like: assignment 1, assignment 2, ...* (each item on separate line)"
   ]
  },
  {
   "cell_type": "code",
   "execution_count": null,
   "metadata": {},
   "outputs": [],
   "source": [
    "### Included in class student ###\n",
    "# Student Name                  as fname & lname\n",
    "# username                      as uname\n",
    "# student id                    as stuid\n",
    "# section number                as ADD THIS\n",
    "# attendance %                  as attendance\n",
    "# allgrades %                   as allgradesp\n",
    "# allgrades letter              as allgradesl\n",
    "# onlygraded %                  as onlygradedp\n",
    "# onlygraded letter             as onlygradedl\n",
    "# list of missing work          as missingwork\n",
    "# list of needs to be graded    as needsgrading\n",
    "\n",
    "### To be included in outside loops ###\n",
    "# List of potentially matching students or list of students & user names\n",
    "# Section Average Grade\n",
    "# Course Average Grade"
   ]
  },
  {
   "cell_type": "code",
   "execution_count": null,
   "metadata": {},
   "outputs": [],
   "source": [
    "class student:\n",
    "    def __init__(self,data,username):\n",
    "        self.uname = username\n",
    "        self.fname = data.at[username,'First Name']\n",
    "        self.lname = data.at[username,'Last Name']\n",
    "        self.stuid = data.at[username,'Student ID']\n",
    "        self.sect = data.at[username,'Section']\n",
    "        self.honors = data.at[username,'Honors']\n",
    "        self.attendance = data.at[username,data.filter(like='Attendance').columns[0]]\n",
    "        self.studata = data.loc[[username]]\n",
    "        \n",
    "        dropColumns = []\n",
    "        for j in data.columns:\n",
    "            if 'Pts' in j:\n",
    "                continue\n",
    "            else:\n",
    "                dropColumns.append(j)\n",
    "        matching = [s for s in data.columns if any(xs in s for xs in dropColumns)]\n",
    "        data2 = data.drop(columns=dropColumns)\n",
    "        stot = 0\n",
    "        allgrades = 0\n",
    "        onlygraded = 0\n",
    "        mwork = []\n",
    "        ngrade = []\n",
    "        for i in range(len(data2.columns)):\n",
    "            colname = data2.columns[i]\n",
    "            start = colname.find('[')\n",
    "            end = colname.find(']')\n",
    "            allgrades+=float(colname[start+12:end-6])\n",
    "            if data.at[self.uname,colname] == 'Needs Grading' or data.at[self.uname,colname] == 'No Submission':\n",
    "                stot+=0\n",
    "                onlygraded+=0\n",
    "                if data.at[self.uname,colname] == 'Needs Grading':\n",
    "                    colname = colname[0:start]\n",
    "                    ngrade.append(colname)\n",
    "                elif data.at[self.uname,colname] == 'No Submission':\n",
    "                    colname = colname[0:start]\n",
    "                    mwork.append(colname)\n",
    "            else:\n",
    "                onlygraded+=float(colname[start+12:end-6])\n",
    "                stot+=float(data.at[self.uname,colname])\n",
    "        self.allgradesp = (stot/allgrades)*100\n",
    "        self.allgradesl = determine_grade(self.allgradesp)\n",
    "        self.onlygradedp = (stot/onlygraded)*100\n",
    "        self.onlygradedl = determine_grade(self.onlygradedp)\n",
    "        if mwork == []:\n",
    "            mwork = ['You have no work that is missing']\n",
    "        if ngrade == []:\n",
    "            ngrade = ['You have no work that needs grading']\n",
    "        self.missingwork = mwork\n",
    "        self.needsgrading = ngrade"
   ]
  },
  {
   "cell_type": "code",
   "execution_count": null,
   "metadata": {},
   "outputs": [],
   "source": [
    "dooku = student(dataDict['data03'],'cdooku')\n",
    "jocasta = student(dataDict['data03'],'jnu')\n",
    "tyranus = student(dataDict['data03'],'dtyranus')\n",
    "tyranus.needsgrading"
   ]
  },
  {
   "cell_type": "code",
   "execution_count": null,
   "metadata": {},
   "outputs": [],
   "source": [
    "### ASSIGNMENT ###\n",
    "## Gives a list of assignments to choose from if necessary \n",
    "# Assignment Name, points possible\n",
    "# Calculated Avg for each section without 0's or missing assignmnets or 'Needs Grading'\n",
    "# Calculated Avg for all sections ''\n",
    "# Breakdown of who hasn't turned this in by section\n",
    "# Breakdown of how many per section need to be graded\n",
    "# Plot of section grades with course average as a line"
   ]
  },
  {
   "cell_type": "code",
   "execution_count": null,
   "metadata": {},
   "outputs": [],
   "source": [
    "class assignment:\n",
    "    def __init__(self,data,assignname):\n",
    "        self.name = assignname\n",
    "        self.adata = data[assignname]\n",
    "        \n",
    "        start = self.name.find('[')\n",
    "        end = self.name.find(']')\n",
    "        self.points = float(self.name[start+12:end-6])\n",
    "        \n",
    "        nstu = 0\n",
    "        tot = 0\n",
    "        for i in self.adata:\n",
    "            if i == 'Needs Grading':\n",
    "                continue\n",
    "            elif i == 'No Submission':\n",
    "                continue\n",
    "            elif i == 0:\n",
    "                continue\n",
    "            else:\n",
    "                nstu+=1\n",
    "                tot+=i\n",
    "        \n",
    "        # Calculated Avg for each section without 0's or missing assignmnets or 'Needs Grading'\n",
    "        # Calculated Avg for all sections ''\n",
    "        # Breakdown of who hasn't turned this in by section\n",
    "        # Breakdown of how many per section need to be graded"
   ]
  },
  {
   "cell_type": "markdown",
   "metadata": {},
   "source": [
    "# Need to remember Formal and Final are named different. Should loop through columnnames to be safe"
   ]
  },
  {
   "cell_type": "code",
   "execution_count": null,
   "metadata": {},
   "outputs": [],
   "source": [
    "lab1 = assignment(dataDict['data02'],'L9 - Final Report [Total Pts: 100 Score]') "
   ]
  },
  {
   "cell_type": "code",
   "execution_count": null,
   "metadata": {},
   "outputs": [],
   "source": [
    "lab1.adata"
   ]
  },
  {
   "cell_type": "markdown",
   "metadata": {},
   "source": [
    "# Should the course just be done in the outside code and not be a class because all the information I will need is stored in student and in assignment"
   ]
  },
  {
   "cell_type": "code",
   "execution_count": null,
   "metadata": {},
   "outputs": [],
   "source": [
    "### COURSE ###\n",
    "# Calculated Section Average\n",
    "# Calculated Grade for All Sections\n",
    "# Breakdown of Grades by assignment (section and class averages given)\n",
    "# Compare sections with anova table\n",
    "# Plots?"
   ]
  },
  {
   "cell_type": "code",
   "execution_count": null,
   "metadata": {},
   "outputs": [],
   "source": []
  },
  {
   "cell_type": "code",
   "execution_count": null,
   "metadata": {},
   "outputs": [],
   "source": []
  },
  {
   "cell_type": "code",
   "execution_count": null,
   "metadata": {},
   "outputs": [],
   "source": []
  }
 ],
 "metadata": {
  "kernelspec": {
   "display_name": "Python 3",
   "language": "python",
   "name": "python3"
  },
  "language_info": {
   "codemirror_mode": {
    "name": "ipython",
    "version": 3
   },
   "file_extension": ".py",
   "mimetype": "text/x-python",
   "name": "python",
   "nbconvert_exporter": "python",
   "pygments_lexer": "ipython3",
   "version": "3.8.5"
  }
 },
 "nbformat": 4,
 "nbformat_minor": 4
}
