{
 "cells": [
  {
   "cell_type": "code",
   "execution_count": 1,
   "metadata": {},
   "outputs": [],
   "source": [
    "from TeachingTools.classes import student\n",
    "from TeachingTools.classes import assignment\n",
    "from TeachingTools.classes import course\n",
    "from TeachingTools.classes import section"
   ]
  },
  {
   "cell_type": "code",
   "execution_count": 2,
   "metadata": {},
   "outputs": [],
   "source": [
    "# jnu      -> Submitted all assignments, All assignments graded\n",
    "# cdooku   -> Missing submissions,       Needs grading\n",
    "# dtyranus -> Submitted all assignments, Needs grading\n",
    "# dbane    -> Missing submissions,       All assignments graded"
   ]
  },
  {
   "cell_type": "code",
   "execution_count": 3,
   "metadata": {},
   "outputs": [],
   "source": [
    "cem = course('./exampledata/CEM153/')\n",
    "sect = cem.sectD['03']\n",
    "assn = sect.assnDict['L2 - Worksheet']\n",
    "stud = sect.stuDict['cdooku']"
   ]
  },
  {
   "cell_type": "code",
   "execution_count": 4,
   "metadata": {},
   "outputs": [
    {
     "name": "stdout",
     "output_type": "stream",
     "text": [
      "Student Username: cdooku \n",
      "Average Score: 88.91 \n",
      "------------------------ \n",
      "   Missing Submission \n",
      "------------------------ \n",
      " L1 - Worksheet \n",
      "------------------------ \n",
      "      Needs Grading \n",
      "------------------------ \n",
      " L8 - PostLab \n",
      "\n"
     ]
    }
   ],
   "source": [
    "print(stud)"
   ]
  },
  {
   "cell_type": "markdown",
   "metadata": {},
   "source": [
    "# I might like to add the option to show incomplete/complete for the honors assignments if the student/assignment is honors\n",
    "\n",
    "## This would be future work because I don't think it will be useful at my new job so I don't feel like doing it"
   ]
  },
  {
   "cell_type": "code",
   "execution_count": null,
   "metadata": {},
   "outputs": [],
   "source": []
  },
  {
   "cell_type": "code",
   "execution_count": null,
   "metadata": {},
   "outputs": [],
   "source": []
  },
  {
   "cell_type": "code",
   "execution_count": null,
   "metadata": {},
   "outputs": [],
   "source": []
  },
  {
   "cell_type": "code",
   "execution_count": null,
   "metadata": {},
   "outputs": [],
   "source": []
  }
 ],
 "metadata": {
  "kernelspec": {
   "display_name": "Python 3",
   "language": "python",
   "name": "python3"
  },
  "language_info": {
   "codemirror_mode": {
    "name": "ipython",
    "version": 3
   },
   "file_extension": ".py",
   "mimetype": "text/x-python",
   "name": "python",
   "nbconvert_exporter": "python",
   "pygments_lexer": "ipython3",
   "version": "3.8.5"
  }
 },
 "nbformat": 4,
 "nbformat_minor": 4
}
