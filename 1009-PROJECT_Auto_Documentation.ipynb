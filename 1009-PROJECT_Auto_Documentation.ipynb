{
 "cells": [
  {
   "cell_type": "markdown",
   "metadata": {},
   "source": [
    "In order to successfully complete this assignment you need to commit changes to your shared git repository on or before **11:59pm on Friday October 9**."
   ]
  },
  {
   "cell_type": "markdown",
   "metadata": {},
   "source": [
    "# <center>Stub Functions and Automatic Documentation</center>\n",
    "\n",
    "<img src=\"https://pdoc3.github.io/pdoc/logo.png\" width=30% alt=\"Sphinx logo\">\n"
   ]
  },
  {
   "cell_type": "markdown",
   "metadata": {},
   "source": [
    "The goal of this project is to solidify and document the major structure of your project code.  We will do this by adding stub functions (where needed) and using the [pdoc3 automatic documentation generator](https://pdoc3.github.io/pdoc/).  An automatic documentation generator takes comments formated in your Python source code and uses them to generate your project documentation.  This way you only need to change one set of files.  \n",
    "\n",
    "**Note:** although your instructor was able to get pdoc3 running on Jupyterhub the steps are much easier if you run from your local Anaconda install. We highly recommend using the local install."
   ]
  },
  {
   "cell_type": "markdown",
   "metadata": {},
   "source": [
    "# Stubbing out your code\n",
    "\n",
    "A stub function in software development is like an outline used to stand in as a substitute before the details of the function can be completed.  Good stub functions are like a plan for what you want your code to do. It takes the expected inputs and returns outputs in the expected format.  \n",
    "\n",
    "For this project we want to stub out the main structure of your programming interface.  How the functions are stubbed out will depend highly on your project.  The idea is to plan how you want the code functions and libraries to interact before writing in all of the details.  Good stubbing will make it much easier to incrementally develop and test your software.  "
   ]
  },
  {
   "cell_type": "markdown",
   "metadata": {},
   "source": [
    "&#9989; **<font color=red>DO THIS:</font>**  Stub out the main functions and classes for your code.  Commit your changes to your git repository."
   ]
  },
  {
   "cell_type": "code",
   "execution_count": 1,
   "metadata": {},
   "outputs": [],
   "source": [
    "import pandas as pd"
   ]
  },
  {
   "cell_type": "code",
   "execution_count": 2,
   "metadata": {},
   "outputs": [],
   "source": [
    "rawdata = pd.DataFrame([['Lab 1',68,100,95,98],['Lab 2',98,78,76,54]],columns=['name','student1','student2','student3','student4'])"
   ]
  },
  {
   "cell_type": "code",
   "execution_count": 3,
   "metadata": {},
   "outputs": [],
   "source": [
    "class Blackboard:\n",
    "#    def __init__(self,url):\n",
    "#        self.sectnum = sectnum\n",
    "#        self.assignments = assignments\n",
    "    pass\n",
    "# Accesses Blackboard and strips the data\n",
    "# Passes out the data"
   ]
  },
  {
   "cell_type": "code",
   "execution_count": 4,
   "metadata": {},
   "outputs": [],
   "source": [
    "# I want this function to go into the Blackboard class I think, but I am not familiar enough with them yet\n",
    "def accessBB(url):  \n",
    "    rawdata = pd.DataFrame([['Student 1',68,100,95,98],['Student 2',98,'-',76,54]],columns=['name','PreLab1','Lab1','PreLab2','Lab2'])\n",
    "    return rawdata\n",
    "rawData = accessBB('None')"
   ]
  },
  {
   "cell_type": "code",
   "execution_count": 5,
   "metadata": {},
   "outputs": [],
   "source": [
    "class Assignment:\n",
    "#    def __init__(self):\n",
    "#        self.name = name\n",
    "#        self.duedate = duedate\n",
    "    pass\n",
    "# Takes the Blackboard stripped data\n",
    "# Passes out a formatted assignment with information about it"
   ]
  },
  {
   "cell_type": "code",
   "execution_count": 6,
   "metadata": {},
   "outputs": [],
   "source": [
    "def prettyAssignment(studentnames,assignnames,rawData):\n",
    "    listofnames = pd.DataFrame(rawData[studentnames])\n",
    "    listofinformation = pd.DataFrame(rawData[assignnames])\n",
    "    data = pd.concat([listofnames, listofinformation], axis=1, sort=False)\n",
    "    return data\n",
    "prettiedLab1 = prettyAssignment('name','Lab1',rawData)"
   ]
  },
  {
   "cell_type": "code",
   "execution_count": 7,
   "metadata": {},
   "outputs": [],
   "source": [
    "class SectionData:\n",
    "#    def __init__(self,sectnum):\n",
    "#        self.sectnum = sectnum\n",
    "#        self.grades = sectgrades\n",
    "#        self.assignments = sectassignments\n",
    "    pass\n",
    "# Pulls in all data for section\n",
    "# Passes out section information and will allow the section data\n",
    "    # to be formatted into whole section information, the aggregate\n",
    "    # of the whole section so I can look at each section"
   ]
  },
  {
   "cell_type": "code",
   "execution_count": 8,
   "metadata": {},
   "outputs": [],
   "source": [
    "def sectionstats(rawData):\n",
    "    # I want this function to print a list of states about my sections\n",
    "    # I am not sure exactly what I want from my sections yet and I think this is going to depend\n",
    "    # on how I set up the earlier functions and what I can actually manage\n",
    "    return 0\n",
    "def missingassign(rawData):\n",
    "    for i in range(len(rawData['name'])):\n",
    "        for j in range(len(rawData.columns)):\n",
    "            if j == '-':\n",
    "                print(yes)\n",
    "    return 0"
   ]
  },
  {
   "cell_type": "code",
   "execution_count": 9,
   "metadata": {},
   "outputs": [],
   "source": [
    "class Student:\n",
    "#    def __init__(self,sectnum,sectgrades,sectassignemts):\n",
    "#        student.first = first\n",
    "#        student.last = last\n",
    "#        student.sectnum = sect\n",
    "#        student.grades = grades\n",
    "#        student.assignments = assignments\n",
    "    pass"
   ]
  },
  {
   "cell_type": "code",
   "execution_count": 10,
   "metadata": {},
   "outputs": [],
   "source": [
    "def missingassignments(rawData):\n",
    "    l = []\n",
    "    for i in range(len(rawData['name'])):\n",
    "        for j in rawData.columns:\n",
    "            if rawData.iloc[i][j] == '-':\n",
    "                l.append([rawData.iloc[i]['name'],j])\n",
    "    return l\n",
    "missing = missingassignments(rawData)"
   ]
  },
  {
   "cell_type": "markdown",
   "metadata": {},
   "source": [
    "# Docstrings\n",
    "\n",
    "The Python programming language has some standard ways that functions and classes should be documented.  Strings surrounded by triple quotes (\"\"\") located at the beginning of documents, functions and classes are used to document those items.  Consider the following example function:"
   ]
  },
  {
   "cell_type": "code",
   "execution_count": 11,
   "metadata": {},
   "outputs": [],
   "source": [
    "def testfunction(a, b):\n",
    "    \"\"\"This is a test funciton documentation\n",
    "    You can put your stuff here\n",
    "    \"\"\"\n",
    "    print(\"running testfunction {a} {b}\")\n",
    "    return 0"
   ]
  },
  {
   "cell_type": "markdown",
   "metadata": {},
   "source": [
    "Docstrings are the primary way that Python uses to print ```help``` messages. For example:"
   ]
  },
  {
   "cell_type": "code",
   "execution_count": 12,
   "metadata": {
    "scrolled": true
   },
   "outputs": [
    {
     "name": "stdout",
     "output_type": "stream",
     "text": [
      "Help on function testfunction in module __main__:\n",
      "\n",
      "testfunction(a, b)\n",
      "    This is a test funciton documentation\n",
      "    You can put your stuff here\n",
      "\n"
     ]
    }
   ],
   "source": [
    "help(testfunction)"
   ]
  },
  {
   "cell_type": "markdown",
   "metadata": {},
   "source": [
    "&#9989; **<font color=red>DO THIS:</font>**  Read the [PEP257](https://www.python.org/dev/peps/pep-0257/) standard and write docstrings for all of your files, functions and classes. Commit your changes to your git repository. (another good resource is  [this post on DocStrings](https://www.datacamp.com/community/tutorials/docstrings-python))"
   ]
  },
  {
   "cell_type": "markdown",
   "metadata": {},
   "source": [
    "&#9989; **<font color=red>DO THIS:</font>**  Install and use [```pydocstyle```](http://www.pydocstyle.org/) to check and ensure the documentation meets the PEP257 standard as best it can. Commit any additional changes to your git repository. See instructions in next section for example installation code. \n",
    "\n",
    "    conda install pydocstyle\n",
    "    pydocstyle modulename"
   ]
  },
  {
   "cell_type": "code",
   "execution_count": 13,
   "metadata": {
    "scrolled": true
   },
   "outputs": [
    {
     "ename": "ModuleNotFoundError",
     "evalue": "No module named 'missingassignments'",
     "output_type": "error",
     "traceback": [
      "\u001b[0;31m---------------------------------------------------------------------------\u001b[0m",
      "\u001b[0;31mModuleNotFoundError\u001b[0m                       Traceback (most recent call last)",
      "\u001b[0;32m<ipython-input-13-8fd6976c0440>\u001b[0m in \u001b[0;36m<module>\u001b[0;34m\u001b[0m\n\u001b[0;32m----> 1\u001b[0;31m \u001b[0;32mfrom\u001b[0m \u001b[0mmissingassignments\u001b[0m \u001b[0;32mimport\u001b[0m \u001b[0mmissingassignments\u001b[0m\u001b[0;34m\u001b[0m\u001b[0;34m\u001b[0m\u001b[0m\n\u001b[0m",
      "\u001b[0;31mModuleNotFoundError\u001b[0m: No module named 'missingassignments'"
     ]
    }
   ],
   "source": [
    "from missingassignments import missingassignments"
   ]
  },
  {
   "cell_type": "code",
   "execution_count": null,
   "metadata": {},
   "outputs": [],
   "source": [
    "help(missingassignments)"
   ]
  },
  {
   "cell_type": "code",
   "execution_count": null,
   "metadata": {},
   "outputs": [],
   "source": []
  },
  {
   "cell_type": "markdown",
   "metadata": {},
   "source": [
    "# Automatic Documentation using [```pdoc3```](https://pdoc3.github.io/pdoc/)\n",
    "\n",
    "The ```help``` function is not the only Python module that can take advantage of doc strings.  There are a class of programs called \"auto documentors\" that can read though code, organize the doc strings and output documentation for your software in a variety of formats (ex. pdf and html).  Probably the most famous of these is [Sphinx](http://www.sphinx-doc.org/).  However, ```Sphyix``` is really intended for large software projects and is a little overkill for our class project.  For this project we plan to use ```pdoc``` which is a much easier to use program and fully compatible with ```Sphyix```. Meaning we can use ```pdoc``` to organize our documentation and easily upgrade to ```Sphyix``` if/when that is deemed necessary.  \n",
    "\n",
    "Make sure you install ```pdoc3``` for use in your project.  Older versions of ```pdoc``` are much harder to use. Here are some commands to get it working (hopefully these commands are familiar to you by now):\n",
    "\n",
    "    conda install pdoc3 \n",
    "    pdoc --force --html --output-dir ./docs modulename"
   ]
  },
  {
   "cell_type": "markdown",
   "metadata": {},
   "source": [
    "&#9989; **<font color=red>DO THIS:</font>** Get ```pdoc3``` working with your project code and generate html files in a docs folder using the above.  Commit the html files to the folder and push all of your changes to your git central repository. **_HINT_** Use the ```make docs``` command to run pdoc3 on your repository."
   ]
  },
  {
   "cell_type": "markdown",
   "metadata": {},
   "source": [
    "# Publishing on Github.io (Optional)\n",
    " \n",
    "Note, using [github](https://github.com/) is **_NOT_** required for this project.  However, github has a interesting option to make a website out of html files committed to a repository.  These webpages appear for free on github.io.  Make your own project website by doing the following steps:\n",
    "\n",
    "1. Generate your html files in your doc folder.\n",
    "2. Commit and push all of the generated html files to your git repository. \n",
    "3. Go to http://github.com project folder and select settings.\n",
    "4. Under the \"GitHub Pages\" section in settings select \"master branch /docs folder.\" \n",
    "5. Wait a few minutes and go to username.github.io/projectname and view your pages. "
   ]
  },
  {
   "cell_type": "markdown",
   "metadata": {},
   "source": [
    "---\n",
    "### Getting credit for your assignment\n",
    "\n",
    "Now, you just need to commit and push this report to your project git repository. Your instructor will download your repository and check your lint using the ```make docs``` command so make sure that is working. "
   ]
  },
  {
   "cell_type": "markdown",
   "metadata": {},
   "source": [
    "-----\n",
    "### Congratulations, you are done!"
   ]
  }
 ],
 "metadata": {
  "anaconda-cloud": {},
  "kernelspec": {
   "display_name": "Python 3",
   "language": "python",
   "name": "python3"
  },
  "language_info": {
   "codemirror_mode": {
    "name": "ipython",
    "version": 3
   },
   "file_extension": ".py",
   "mimetype": "text/x-python",
   "name": "python",
   "nbconvert_exporter": "python",
   "pygments_lexer": "ipython3",
   "version": "3.7.2"
  }
 },
 "nbformat": 4,
 "nbformat_minor": 1
}
